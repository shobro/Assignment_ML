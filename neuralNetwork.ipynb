{
  "nbformat": 4,
  "nbformat_minor": 0,
  "metadata": {
    "colab": {
      "name": " neuralNetwork",
      "provenance": [],
      "collapsed_sections": []
    },
    "kernelspec": {
      "name": "python3",
      "display_name": "Python 3"
    },
    "language_info": {
      "name": "python"
    }
  },
  "cells": [
    {
      "cell_type": "code",
      "execution_count": 1,
      "metadata": {
        "id": "3NbOoPX5LAg2"
      },
      "outputs": [],
      "source": [
        "from sklearn.datasets import fetch_openml\n",
        "import numpy as np\n",
        "from sklearn.model_selection import train_test_split\n",
        "import matplotlib.pyplot as plt\n",
        "import jax.numpy as jnp\n",
        "from jax import device_put\n",
        "import jax"
      ]
    },
    {
      "cell_type": "markdown",
      "source": [
        "Fetched MNIST data"
      ],
      "metadata": {
        "id": "6LdrVWrFVz8U"
      }
    },
    {
      "cell_type": "code",
      "source": [
        "data = fetch_openml('mnist_784', cache=False,as_frame=True)\n",
        "target = data['target']"
      ],
      "metadata": {
        "id": "trhw1LkJMaet"
      },
      "execution_count": 2,
      "outputs": []
    },
    {
      "cell_type": "markdown",
      "source": [
        "Data preprocessing is done in the cell below\n",
        "\n"
      ],
      "metadata": {
        "id": "YCHdQ760Vt2h"
      }
    },
    {
      "cell_type": "code",
      "source": [
        "data_np = data['data'].loc[:69999].to_numpy()\n",
        "target_np = target.loc[:69999].to_numpy()\n",
        "target_cat = []\n",
        "\n",
        "for i in range (len(target_np)):\n",
        "  t = target_np[i]\n",
        "  t = int(t)\n",
        "  arr = []\n",
        "  for j in range(10):\n",
        "    if(t == j):\n",
        "      arr.append(1)\n",
        "    else:\n",
        "      arr.append(0)\n",
        "  target_cat.append(arr)\n",
        "target_cat = np.array(target_cat)\n",
        "\n",
        "target_np = target.loc[:69999].to_numpy()\n",
        "data_np /= 255.0\n",
        "x_train, x_test, y_train, y_test = train_test_split(data_np, target_cat, test_size=0.20, random_state=42)"
      ],
      "metadata": {
        "id": "JdJ2TdT2Vcr4"
      },
      "execution_count": 3,
      "outputs": []
    },
    {
      "cell_type": "markdown",
      "source": [
        "Data is transferred from **numpy** to **JAX.numpy**"
      ],
      "metadata": {
        "id": "7a8V4NUGWAni"
      }
    },
    {
      "cell_type": "code",
      "source": [
        "x_train = device_put(x_train)\n",
        "y_train = device_put(y_train)\n",
        "x_test = device_put(x_test)\n",
        "y_test = device_put(y_test)"
      ],
      "metadata": {
        "id": "f1fY9QhyNLAq",
        "colab": {
          "base_uri": "https://localhost:8080/"
        },
        "outputId": "917f7f55-ec4f-443f-87e2-e9930e2abab0"
      },
      "execution_count": 4,
      "outputs": [
        {
          "output_type": "stream",
          "name": "stderr",
          "text": [
            "WARNING:absl:No GPU/TPU found, falling back to CPU. (Set TF_CPP_MIN_LOG_LEVEL=0 and rerun for more info.)\n"
          ]
        }
      ]
    },
    {
      "cell_type": "markdown",
      "source": [
        "Class for **Fully connected layer** and used the concept of **JAX Pytree** in method backwrd for gradient descent"
      ],
      "metadata": {
        "id": "XdAl_LdGWKdi"
      }
    },
    {
      "cell_type": "code",
      "source": [
        "class FCLayer:\n",
        "  def __init__(self,input_layer, output_dimension):\n",
        "    self.weights = np.random.randn(input_layer, output_dimension)/np.sqrt(input_layer+output_dimension)\n",
        "    self.weights = device_put(self.weights)\n",
        "    self.bias = np.random.randn(1,output_dimension)/np.sqrt(1+output_dimension)\n",
        "    self.bias = device_put(self.bias)\n",
        "\n",
        "  \n",
        "  \n",
        "  def forward(self, input_data):\n",
        "    self.input_data = input_data\n",
        "    output = jnp.dot(self.input_data,self.weights) + self.bias\n",
        "    return output\n",
        "  \n",
        "  \n",
        "  def backward(self, output_error, learning_rate):\n",
        "    input_error = jnp.dot(output_error, self.weights.T)\n",
        "    weight_error = jnp.dot(self.input_data.T, output_error)\n",
        "    \n",
        "    #self.weights = self.weights - learning_rate * weight_error\n",
        "    #self.bias = self.bias - learning_rate *output_error\n",
        "    self.weights = jax.tree_map(\n",
        "        lambda weight, weight_error, learning_rate: weight - learning_rate * weight_error, self.weights, weight_error, learning_rate\n",
        "    )       #used concept of pytree\n",
        "    self.bias = jax.tree_map(\n",
        "        lambda bias, output_error, learning_rate: bias - learning_rate * output_error, self.bias, output_error, learning_rate\n",
        "    )     #used concept of JAX Pytree\n",
        "\n",
        "    return input_error"
      ],
      "metadata": {
        "id": "BidiwcdbSVza"
      },
      "execution_count": 5,
      "outputs": []
    },
    {
      "cell_type": "markdown",
      "source": [
        "Class for **activation layer** currently using **tanh activation function**"
      ],
      "metadata": {
        "id": "bhbVt05VX0-o"
      }
    },
    {
      "cell_type": "code",
      "source": [
        "class ActivationLayer:\n",
        "  def __init__(self):\n",
        "    return\n",
        "  \n",
        "  def forward(self,input_data):\n",
        "    self.input_data = input_data\n",
        "    output = jnp.tanh(self.input_data) #tanh activation function\n",
        "    #output = jnp.maximum(self.input_data, 0)  #Relu Activation function\n",
        "    #output = 1 / (1 + jnp.exp(-1*self.input_data)) #sigmoid activation function\n",
        "    return output\n",
        "  \n",
        "  def backward(self, output_error, learning_rate):#check later for input_data use\n",
        "    grad = 1-jnp.tanh(self.input_data)**2     #derivative of tanh activation function\n",
        "    #grad =  jnp.array(self.input_data >= 0).astype('int')     #derivative for ReLu function\n",
        "    #grad = jnp.exp(-1*self.input_data) / (1 + jnp.exp(-1*self.input_data))**2    #dervative for sigmoid\n",
        "    return grad*output_error\n"
      ],
      "metadata": {
        "id": "F6PoLaFDqG2H"
      },
      "execution_count": 6,
      "outputs": []
    },
    {
      "cell_type": "markdown",
      "source": [
        "Class for complete Neural Network"
      ],
      "metadata": {
        "id": "9UKZA-qGYfav"
      }
    },
    {
      "cell_type": "code",
      "source": [
        "class NeuralNetwork:\n",
        "  \n",
        "  def __init__(self):\n",
        "    self.layers = []\n",
        "  \n",
        "  def add_layer(self, layer):\n",
        "    self.layers.append(layer)\n",
        "    \n",
        "  def mse(self, y_true, y_pred):      #mean square error\n",
        "    return jnp.mean(jnp.power(y_true-y_pred, 2));\n",
        "\n",
        "  def gradient(self, y_true, y_pred):     #derivative for mean square error\n",
        "    return 2*(y_pred-y_true)/y_pred.size;\n",
        "\n",
        "  def soft_max_forward(self,input):       #softmax layer to improve performance of multi class classification\n",
        "    exp = jnp.exp(input)\n",
        "    output = exp/jnp.sum(exp)\n",
        "    self.output = output\n",
        "    return output\n",
        "  \n",
        "  def soft_max_backward(self, output_error, learning_rate):     #derivative for softmax layer\n",
        "    input_error = jnp.zeros(output_error.shape)\n",
        "    gradient = jnp.tile(self.output.T, 10)\n",
        "    gradient = self.output * jnp.dot(output_error, np.identity(10)-gradient)\n",
        "    return gradient\n",
        "\n",
        "\n",
        "  def predict(self, input_data):\n",
        "    input_size = len(input_data)\n",
        "    res = []\n",
        "    for i in range(input_size):\n",
        "      error = 0\n",
        "      out = input_data[i]\n",
        "      for layer in self.layers:\n",
        "        out = layer.forward(out)\n",
        "      out = self.soft_max_forward(out)\n",
        "      res.append(out)\n",
        "\n",
        "    return res\n",
        "\n",
        "\n",
        "  def fit(self, x_train, y_train,epochs, learning_rate):\n",
        "    size_train = len(x_train)\n",
        "    graph_data= []\n",
        "    for epoch in range(epochs):\n",
        "      err = 0\n",
        "      for i in range(size_train):\n",
        "        out = jnp.reshape(x_train[i],(1,784))\n",
        "        for layer in self.layers:\n",
        "          out = layer.forward(out)\n",
        "        out = self.soft_max_forward(out)\n",
        "        out = np.reshape(out, out.shape[1])\n",
        "        \n",
        "        error = self.mse(y_train[i],out)\n",
        "        grad = self.gradient(y_train[i],out)\n",
        "\n",
        "        grad = self.soft_max_backward(grad, learning_rate)\n",
        "        for layer in reversed(self.layers):\n",
        "          grad = layer.backward( grad, learning_rate)\n",
        "        \n",
        "        err += error\n",
        "        #print(error) \n",
        "      err/=len(x_train)\n",
        "      graph_data.append([epoch, err])\n",
        "      #print('epoch %d/%d   error=%f' % (epoch, epochs, err))\n",
        "      plt.plot(epoch, err)\n",
        "    return graph_data\n"
      ],
      "metadata": {
        "id": "TLDc7q45YK86"
      },
      "execution_count": 12,
      "outputs": []
    },
    {
      "cell_type": "markdown",
      "source": [
        "Please change the values in the cell below to manually change **no of neurons in hidden layers**"
      ],
      "metadata": {
        "id": "ON9xxOiTYkv4"
      }
    },
    {
      "cell_type": "code",
      "source": [
        "NN = NeuralNetwork()\n",
        "layer1 = FCLayer(784,100)#hidden layer 1\n",
        "NN.add_layer(layer1)\n",
        "layer2 = ActivationLayer()\n",
        "NN.add_layer(layer2)\n",
        "layer3 = FCLayer(100,10)#hidden layer 2 also an additional layer softmax is added but no no class is written for it\n",
        "NN.add_layer(layer3)"
      ],
      "metadata": {
        "id": "fBYRKhylMpeT"
      },
      "execution_count": 13,
      "outputs": []
    },
    {
      "cell_type": "markdown",
      "source": [
        "Please change the **learning rate**, **no of epochs**, **sample size** by changing size of *x_train* and *y_train* in NN.fit( ) function"
      ],
      "metadata": {
        "id": "4TadrnU_anBw"
      }
    },
    {
      "cell_type": "code",
      "source": [
        "graph_data = NN.fit(x_train[:1000], y_train[:1000],epochs = 40, learning_rate = 0.5)\n",
        "plt.xlabel(\"iteration\")  # add X-axis label\n",
        "plt.ylabel(\"error\")  # add Y-axis label\n",
        "plt.title(\"iteration vs error graph\")\n",
        "graph_data = np.array(graph_data)\n",
        "plt.plot(graph_data[:,0],graph_data[:,1])"
      ],
      "metadata": {
        "id": "rqCrgwTlWVpH",
        "colab": {
          "base_uri": "https://localhost:8080/",
          "height": 312
        },
        "outputId": "916a3692-42e2-4e4a-93d1-f9cc94f3cbbc"
      },
      "execution_count": 14,
      "outputs": [
        {
          "output_type": "execute_result",
          "data": {
            "text/plain": [
              "[<matplotlib.lines.Line2D at 0x7fb9c29944d0>]"
            ]
          },
          "metadata": {},
          "execution_count": 14
        },
        {
          "output_type": "display_data",
          "data": {
            "text/plain": [
              "<Figure size 432x288 with 1 Axes>"
            ],
            "image/png": "[encoded data removed]"
          },
          "metadata": {
            "needs_background": "light"
          }
        }
      ]
    },
    {
      "cell_type": "markdown",
      "source": [
        "Please change **UPPER_BOUND** and **LOWER_BOUND** to evaluate the network with diff data"
      ],
      "metadata": {
        "id": "NXuepet3gEmj"
      }
    },
    {
      "cell_type": "code",
      "source": [
        "UPPER_BOUND = 200\n",
        "LOWER_BOUND = 0\n",
        "result = NN.predict(x_test[LOWER_BOUND:UPPER_BOUND])\n",
        "result = np.reshape(result,(UPPER_BOUND - LOWER_BOUND,10))\n",
        "res = np.argmax(result, axis = 1)\n",
        "acc = 0\n",
        "for i in range(UPPER_BOUND - LOWER_BOUND):\n",
        "  ans = -1\n",
        "  for j in range(len(y_test[i])):\n",
        "    if y_test[LOWER_BOUND+i][j] == 1:\n",
        "      ans = j\n",
        "      break\n",
        "  if ans == res[i]:\n",
        "    acc+=1\n",
        "print(\"Accuray of the Network is\",acc/(UPPER_BOUND-LOWER_BOUND)*100)"
      ],
      "metadata": {
        "colab": {
          "base_uri": "https://localhost:8080/"
        },
        "id": "u2YtynBkO5CR",
        "outputId": "c0dc9cd3-29c3-47c2-c7d0-ddc3bd4d2aca"
      },
      "execution_count": 27,
      "outputs": [
        {
          "output_type": "stream",
          "name": "stdout",
          "text": [
            "Accuray of the Network is 89.5\n"
          ]
        }
      ]
    },
    {
      "cell_type": "markdown",
      "source": [
        "Unable to discuss more classification metrics due to time constraints"
      ],
      "metadata": {
        "id": "eKNPuV0pY3zQ"
      }
    },
    {
      "cell_type": "markdown",
      "source": [
        "Resources Used\n",
        "\n",
        "1.   https://towardsdatascience.com/math-neural-network-from-scratch-in-python-d6da9f29ce6\n",
        "2.   https://jax.readthedocs.io/en/latest/pytrees.html\n",
        "3.   https://jax.readthedocs.io/en/latest/notebooks/quickstart.html\n",
        "4.   https://machinelearningmastery.com/choose-an-activation-function-for-deep-learning/"
      ],
      "metadata": {
        "id": "GCp72LcqmJf-"
      }
    }
  ]
}