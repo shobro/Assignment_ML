{
  "nbformat": 4,
  "nbformat_minor": 0,
  "metadata": {
    "colab": {
      "name": "bivariate_normal_distribution",
      "provenance": [],
      "collapsed_sections": []
    },
    "kernelspec": {
      "name": "python3",
      "display_name": "Python 3"
    },
    "language_info": {
      "name": "python"
    },
    "accelerator": "GPU",
    "widgets": {
      "application/vnd.jupyter.widget-state+json": {
        "9c8a6483b2bb41d58660674fbd3612c0": {
          "model_module": "@jupyter-widgets/controls",
          "model_name": "VBoxModel",
          "model_module_version": "1.5.0",
          "state": {
            "_dom_classes": [
              "widget-interact"
            ],
            "_model_module": "@jupyter-widgets/controls",
            "_model_module_version": "1.5.0",
            "_model_name": "VBoxModel",
            "_view_count": null,
            "_view_module": "@jupyter-widgets/controls",
            "_view_module_version": "1.5.0",
            "_view_name": "VBoxView",
            "box_style": "",
            "children": [
              "IPY_MODEL_03513f25a3054d218dad0711f03cb2a4",
              "IPY_MODEL_b51d9c3472c144ff8c597c9f1abd0a7e",
              "IPY_MODEL_652d1cb01aad4f238144d664c2b85b84",
              "IPY_MODEL_7c17a951f4494cabb95b90194c0ac966",
              "IPY_MODEL_468d5d3a90fa4983b51e5913f3d0841d",
              "IPY_MODEL_b5e7c947854b4ca28c0d62e7388566ed"
            ],
            "layout": "IPY_MODEL_a75e4a46594840c584b12ac6e69c6f23"
          }
        },
        "03513f25a3054d218dad0711f03cb2a4": {
          "model_module": "@jupyter-widgets/controls",
          "model_name": "FloatSliderModel",
          "model_module_version": "1.5.0",
          "state": {
            "_dom_classes": [],
            "_model_module": "@jupyter-widgets/controls",
            "_model_module_version": "1.5.0",
            "_model_name": "FloatSliderModel",
            "_view_count": null,
            "_view_module": "@jupyter-widgets/controls",
            "_view_module_version": "1.5.0",
            "_view_name": "FloatSliderView",
            "continuous_update": true,
            "description": "mean_one",
            "description_tooltip": null,
            "disabled": false,
            "layout": "IPY_MODEL_0a6abb7595274e80b00173cef67ff634",
            "max": 3,
            "min": -3,
            "orientation": "horizontal",
            "readout": true,
            "readout_format": ".2f",
            "step": 0.1,
            "style": "IPY_MODEL_bdfc41b382af4292884d3bae67d990a3",
            "value": 0.4
          }
        },
        "b51d9c3472c144ff8c597c9f1abd0a7e": {
          "model_module": "@jupyter-widgets/controls",
          "model_name": "FloatSliderModel",
          "model_module_version": "1.5.0",
          "state": {
            "_dom_classes": [],
            "_model_module": "@jupyter-widgets/controls",
            "_model_module_version": "1.5.0",
            "_model_name": "FloatSliderModel",
            "_view_count": null,
            "_view_module": "@jupyter-widgets/controls",
            "_view_module_version": "1.5.0",
            "_view_name": "FloatSliderView",
            "continuous_update": true,
            "description": "mean_two",
            "description_tooltip": null,
            "disabled": false,
            "layout": "IPY_MODEL_110cdd08838848babbdabcedefc9e4fa",
            "max": 3,
            "min": -3,
            "orientation": "horizontal",
            "readout": true,
            "readout_format": ".2f",
            "step": 0.1,
            "style": "IPY_MODEL_144cfcd60cd9463fb07a21b722dc21ae",
            "value": 0
          }
        },
        "652d1cb01aad4f238144d664c2b85b84": {
          "model_module": "@jupyter-widgets/controls",
          "model_name": "FloatSliderModel",
          "model_module_version": "1.5.0",
          "state": {
            "_dom_classes": [],
            "_model_module": "@jupyter-widgets/controls",
            "_model_module_version": "1.5.0",
            "_model_name": "FloatSliderModel",
            "_view_count": null,
            "_view_module": "@jupyter-widgets/controls",
            "_view_module_version": "1.5.0",
            "_view_name": "FloatSliderView",
            "continuous_update": true,
            "description": "variance_one",
            "description_tooltip": null,
            "disabled": false,
            "layout": "IPY_MODEL_623bf9c80fe3481a9e8c0e25999763de",
            "max": 3,
            "min": 0,
            "orientation": "horizontal",
            "readout": true,
            "readout_format": ".2f",
            "step": 0.1,
            "style": "IPY_MODEL_20f2324a77924169a7696693d979cfa0",
            "value": 1
          }
        },
        "7c17a951f4494cabb95b90194c0ac966": {
          "model_module": "@jupyter-widgets/controls",
          "model_name": "FloatSliderModel",
          "model_module_version": "1.5.0",
          "state": {
            "_dom_classes": [],
            "_model_module": "@jupyter-widgets/controls",
            "_model_module_version": "1.5.0",
            "_model_name": "FloatSliderModel",
            "_view_count": null,
            "_view_module": "@jupyter-widgets/controls",
            "_view_module_version": "1.5.0",
            "_view_name": "FloatSliderView",
            "continuous_update": true,
            "description": "variance_two",
            "description_tooltip": null,
            "disabled": false,
            "layout": "IPY_MODEL_a8668b2f7a674d9ba9b6c2f86ef36889",
            "max": 3,
            "min": 0,
            "orientation": "horizontal",
            "readout": true,
            "readout_format": ".2f",
            "step": 0.1,
            "style": "IPY_MODEL_bae9c9066e5145d6abab7afade7aa984",
            "value": 2
          }
        },
        "468d5d3a90fa4983b51e5913f3d0841d": {
          "model_module": "@jupyter-widgets/controls",
          "model_name": "FloatSliderModel",
          "model_module_version": "1.5.0",
          "state": {
            "_dom_classes": [],
            "_model_module": "@jupyter-widgets/controls",
            "_model_module_version": "1.5.0",
            "_model_name": "FloatSliderModel",
            "_view_count": null,
            "_view_module": "@jupyter-widgets/controls",
            "_view_module_version": "1.5.0",
            "_view_name": "FloatSliderView",
            "continuous_update": true,
            "description": "covariance",
            "description_tooltip": null,
            "disabled": false,
            "layout": "IPY_MODEL_2ff1ad2c6c4f4967827f3027456e9a7d",
            "max": 3,
            "min": -3,
            "orientation": "horizontal",
            "readout": true,
            "readout_format": ".2f",
            "step": 0.1,
            "style": "IPY_MODEL_cff93f21105940d2bed81e06ba441ca4",
            "value": 0.6
          }
        },
        "b5e7c947854b4ca28c0d62e7388566ed": {
          "model_module": "@jupyter-widgets/output",
          "model_name": "OutputModel",
          "model_module_version": "1.0.0",
          "state": {
            "_dom_classes": [],
            "_model_module": "@jupyter-widgets/output",
            "_model_module_version": "1.0.0",
            "_model_name": "OutputModel",
            "_view_count": null,
            "_view_module": "@jupyter-widgets/output",
            "_view_module_version": "1.0.0",
            "_view_name": "OutputView",
            "layout": "IPY_MODEL_2eeb0a69465348f482f8ee14cfd3d035",
            "msg_id": "7991fba78c0b47179a261249ba22c7e1",
            "outputs": [
              {
                "output_type": "display_data",
                "data": {
                  "text/plain": "<Figure size 432x288 with 1 Axes>",
                  "image/png": "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\n"
                },
                "metadata": {
                  "needs_background": "light"
                }
              }
            ]
          }
        },
        "a75e4a46594840c584b12ac6e69c6f23": {
          "model_module": "@jupyter-widgets/base",
          "model_name": "LayoutModel",
          "model_module_version": "1.2.0",
          "state": {
            "_model_module": "@jupyter-widgets/base",
            "_model_module_version": "1.2.0",
            "_model_name": "LayoutModel",
            "_view_count": null,
            "_view_module": "@jupyter-widgets/base",
            "_view_module_version": "1.2.0",
            "_view_name": "LayoutView",
            "align_content": null,
            "align_items": null,
            "align_self": null,
            "border": null,
            "bottom": null,
            "display": null,
            "flex": null,
            "flex_flow": null,
            "grid_area": null,
            "grid_auto_columns": null,
            "grid_auto_flow": null,
            "grid_auto_rows": null,
            "grid_column": null,
            "grid_gap": null,
            "grid_row": null,
            "grid_template_areas": null,
            "grid_template_columns": null,
            "grid_template_rows": null,
            "height": null,
            "justify_content": null,
            "justify_items": null,
            "left": null,
            "margin": null,
            "max_height": null,
            "max_width": null,
            "min_height": null,
            "min_width": null,
            "object_fit": null,
            "object_position": null,
            "order": null,
            "overflow": null,
            "overflow_x": null,
            "overflow_y": null,
            "padding": null,
            "right": null,
            "top": null,
            "visibility": null,
            "width": null
          }
        },
        "0a6abb7595274e80b00173cef67ff634": {
          "model_module": "@jupyter-widgets/base",
          "model_name": "LayoutModel",
          "model_module_version": "1.2.0",
          "state": {
            "_model_module": "@jupyter-widgets/base",
            "_model_module_version": "1.2.0",
            "_model_name": "LayoutModel",
            "_view_count": null,
            "_view_module": "@jupyter-widgets/base",
            "_view_module_version": "1.2.0",
            "_view_name": "LayoutView",
            "align_content": null,
            "align_items": null,
            "align_self": null,
            "border": null,
            "bottom": null,
            "display": null,
            "flex": null,
            "flex_flow": null,
            "grid_area": null,
            "grid_auto_columns": null,
            "grid_auto_flow": null,
            "grid_auto_rows": null,
            "grid_column": null,
            "grid_gap": null,
            "grid_row": null,
            "grid_template_areas": null,
            "grid_template_columns": null,
            "grid_template_rows": null,
            "height": null,
            "justify_content": null,
            "justify_items": null,
            "left": null,
            "margin": null,
            "max_height": null,
            "max_width": null,
            "min_height": null,
            "min_width": null,
            "object_fit": null,
            "object_position": null,
            "order": null,
            "overflow": null,
            "overflow_x": null,
            "overflow_y": null,
            "padding": null,
            "right": null,
            "top": null,
            "visibility": null,
            "width": null
          }
        },
        "bdfc41b382af4292884d3bae67d990a3": {
          "model_module": "@jupyter-widgets/controls",
          "model_name": "SliderStyleModel",
          "model_module_version": "1.5.0",
          "state": {
            "_model_module": "@jupyter-widgets/controls",
            "_model_module_version": "1.5.0",
            "_model_name": "SliderStyleModel",
            "_view_count": null,
            "_view_module": "@jupyter-widgets/base",
            "_view_module_version": "1.2.0",
            "_view_name": "StyleView",
            "description_width": "",
            "handle_color": null
          }
        },
        "110cdd08838848babbdabcedefc9e4fa": {
          "model_module": "@jupyter-widgets/base",
          "model_name": "LayoutModel",
          "model_module_version": "1.2.0",
          "state": {
            "_model_module": "@jupyter-widgets/base",
            "_model_module_version": "1.2.0",
            "_model_name": "LayoutModel",
            "_view_count": null,
            "_view_module": "@jupyter-widgets/base",
            "_view_module_version": "1.2.0",
            "_view_name": "LayoutView",
            "align_content": null,
            "align_items": null,
            "align_self": null,
            "border": null,
            "bottom": null,
            "display": null,
            "flex": null,
            "flex_flow": null,
            "grid_area": null,
            "grid_auto_columns": null,
            "grid_auto_flow": null,
            "grid_auto_rows": null,
            "grid_column": null,
            "grid_gap": null,
            "grid_row": null,
            "grid_template_areas": null,
            "grid_template_columns": null,
            "grid_template_rows": null,
            "height": null,
            "justify_content": null,
            "justify_items": null,
            "left": null,
            "margin": null,
            "max_height": null,
            "max_width": null,
            "min_height": null,
            "min_width": null,
            "object_fit": null,
            "object_position": null,
            "order": null,
            "overflow": null,
            "overflow_x": null,
            "overflow_y": null,
            "padding": null,
            "right": null,
            "top": null,
            "visibility": null,
            "width": null
          }
        },
        "144cfcd60cd9463fb07a21b722dc21ae": {
          "model_module": "@jupyter-widgets/controls",
          "model_name": "SliderStyleModel",
          "model_module_version": "1.5.0",
          "state": {
            "_model_module": "@jupyter-widgets/controls",
            "_model_module_version": "1.5.0",
            "_model_name": "SliderStyleModel",
            "_view_count": null,
            "_view_module": "@jupyter-widgets/base",
            "_view_module_version": "1.2.0",
            "_view_name": "StyleView",
            "description_width": "",
            "handle_color": null
          }
        },
        "623bf9c80fe3481a9e8c0e25999763de": {
          "model_module": "@jupyter-widgets/base",
          "model_name": "LayoutModel",
          "model_module_version": "1.2.0",
          "state": {
            "_model_module": "@jupyter-widgets/base",
            "_model_module_version": "1.2.0",
            "_model_name": "LayoutModel",
            "_view_count": null,
            "_view_module": "@jupyter-widgets/base",
            "_view_module_version": "1.2.0",
            "_view_name": "LayoutView",
            "align_content": null,
            "align_items": null,
            "align_self": null,
            "border": null,
            "bottom": null,
            "display": null,
            "flex": null,
            "flex_flow": null,
            "grid_area": null,
            "grid_auto_columns": null,
            "grid_auto_flow": null,
            "grid_auto_rows": null,
            "grid_column": null,
            "grid_gap": null,
            "grid_row": null,
            "grid_template_areas": null,
            "grid_template_columns": null,
            "grid_template_rows": null,
            "height": null,
            "justify_content": null,
            "justify_items": null,
            "left": null,
            "margin": null,
            "max_height": null,
            "max_width": null,
            "min_height": null,
            "min_width": null,
            "object_fit": null,
            "object_position": null,
            "order": null,
            "overflow": null,
            "overflow_x": null,
            "overflow_y": null,
            "padding": null,
            "right": null,
            "top": null,
            "visibility": null,
            "width": null
          }
        },
        "20f2324a77924169a7696693d979cfa0": {
          "model_module": "@jupyter-widgets/controls",
          "model_name": "SliderStyleModel",
          "model_module_version": "1.5.0",
          "state": {
            "_model_module": "@jupyter-widgets/controls",
            "_model_module_version": "1.5.0",
            "_model_name": "SliderStyleModel",
            "_view_count": null,
            "_view_module": "@jupyter-widgets/base",
            "_view_module_version": "1.2.0",
            "_view_name": "StyleView",
            "description_width": "",
            "handle_color": null
          }
        },
        "a8668b2f7a674d9ba9b6c2f86ef36889": {
          "model_module": "@jupyter-widgets/base",
          "model_name": "LayoutModel",
          "model_module_version": "1.2.0",
          "state": {
            "_model_module": "@jupyter-widgets/base",
            "_model_module_version": "1.2.0",
            "_model_name": "LayoutModel",
            "_view_count": null,
            "_view_module": "@jupyter-widgets/base",
            "_view_module_version": "1.2.0",
            "_view_name": "LayoutView",
            "align_content": null,
            "align_items": null,
            "align_self": null,
            "border": null,
            "bottom": null,
            "display": null,
            "flex": null,
            "flex_flow": null,
            "grid_area": null,
            "grid_auto_columns": null,
            "grid_auto_flow": null,
            "grid_auto_rows": null,
            "grid_column": null,
            "grid_gap": null,
            "grid_row": null,
            "grid_template_areas": null,
            "grid_template_columns": null,
            "grid_template_rows": null,
            "height": null,
            "justify_content": null,
            "justify_items": null,
            "left": null,
            "margin": null,
            "max_height": null,
            "max_width": null,
            "min_height": null,
            "min_width": null,
            "object_fit": null,
            "object_position": null,
            "order": null,
            "overflow": null,
            "overflow_x": null,
            "overflow_y": null,
            "padding": null,
            "right": null,
            "top": null,
            "visibility": null,
            "width": null
          }
        },
        "bae9c9066e5145d6abab7afade7aa984": {
          "model_module": "@jupyter-widgets/controls",
          "model_name": "SliderStyleModel",
          "model_module_version": "1.5.0",
          "state": {
            "_model_module": "@jupyter-widgets/controls",
            "_model_module_version": "1.5.0",
            "_model_name": "SliderStyleModel",
            "_view_count": null,
            "_view_module": "@jupyter-widgets/base",
            "_view_module_version": "1.2.0",
            "_view_name": "StyleView",
            "description_width": "",
            "handle_color": null
          }
        },
        "2ff1ad2c6c4f4967827f3027456e9a7d": {
          "model_module": "@jupyter-widgets/base",
          "model_name": "LayoutModel",
          "model_module_version": "1.2.0",
          "state": {
            "_model_module": "@jupyter-widgets/base",
            "_model_module_version": "1.2.0",
            "_model_name": "LayoutModel",
            "_view_count": null,
            "_view_module": "@jupyter-widgets/base",
            "_view_module_version": "1.2.0",
            "_view_name": "LayoutView",
            "align_content": null,
            "align_items": null,
            "align_self": null,
            "border": null,
            "bottom": null,
            "display": null,
            "flex": null,
            "flex_flow": null,
            "grid_area": null,
            "grid_auto_columns": null,
            "grid_auto_flow": null,
            "grid_auto_rows": null,
            "grid_column": null,
            "grid_gap": null,
            "grid_row": null,
            "grid_template_areas": null,
            "grid_template_columns": null,
            "grid_template_rows": null,
            "height": null,
            "justify_content": null,
            "justify_items": null,
            "left": null,
            "margin": null,
            "max_height": null,
            "max_width": null,
            "min_height": null,
            "min_width": null,
            "object_fit": null,
            "object_position": null,
            "order": null,
            "overflow": null,
            "overflow_x": null,
            "overflow_y": null,
            "padding": null,
            "right": null,
            "top": null,
            "visibility": null,
            "width": null
          }
        },
        "cff93f21105940d2bed81e06ba441ca4": {
          "model_module": "@jupyter-widgets/controls",
          "model_name": "SliderStyleModel",
          "model_module_version": "1.5.0",
          "state": {
            "_model_module": "@jupyter-widgets/controls",
            "_model_module_version": "1.5.0",
            "_model_name": "SliderStyleModel",
            "_view_count": null,
            "_view_module": "@jupyter-widgets/base",
            "_view_module_version": "1.2.0",
            "_view_name": "StyleView",
            "description_width": "",
            "handle_color": null
          }
        },
        "2eeb0a69465348f482f8ee14cfd3d035": {
          "model_module": "@jupyter-widgets/base",
          "model_name": "LayoutModel",
          "model_module_version": "1.2.0",
          "state": {
            "_model_module": "@jupyter-widgets/base",
            "_model_module_version": "1.2.0",
            "_model_name": "LayoutModel",
            "_view_count": null,
            "_view_module": "@jupyter-widgets/base",
            "_view_module_version": "1.2.0",
            "_view_name": "LayoutView",
            "align_content": null,
            "align_items": null,
            "align_self": null,
            "border": null,
            "bottom": null,
            "display": null,
            "flex": null,
            "flex_flow": null,
            "grid_area": null,
            "grid_auto_columns": null,
            "grid_auto_flow": null,
            "grid_auto_rows": null,
            "grid_column": null,
            "grid_gap": null,
            "grid_row": null,
            "grid_template_areas": null,
            "grid_template_columns": null,
            "grid_template_rows": null,
            "height": null,
            "justify_content": null,
            "justify_items": null,
            "left": null,
            "margin": null,
            "max_height": null,
            "max_width": null,
            "min_height": null,
            "min_width": null,
            "object_fit": null,
            "object_position": null,
            "order": null,
            "overflow": null,
            "overflow_x": null,
            "overflow_y": null,
            "padding": null,
            "right": null,
            "top": null,
            "visibility": null,
            "width": null
          }
        }
      }
    }
  },
  "cells": [
    {
      "cell_type": "code",
      "execution_count": null,
      "metadata": {
        "id": "BTK9-H7rRd45"
      },
      "outputs": [],
      "source": [
        "import jax.numpy as jnp\n",
        "import matplotlib.pyplot as plt\n",
        "from jax import random\n",
        "import numpy as np\n",
        "import ipywidgets as widegts"
      ]
    },
    {
      "cell_type": "markdown",
      "source": [
        "The 3d plot to be constructed will consist of one bivariate normal distribution with **mean** = [m1, m2] and **covariance** = [[v1,cov],[cov,v2]] \n",
        "\n",
        "\n",
        "\n",
        "\n",
        "\n",
        "where **v1** and **v2** variance of the two variabke and **cov** is covariance between the two distribution.\n",
        "\n",
        "---\n",
        "Plot also consist two univariate normal distribution along with **mean** *m1*, *m2* and **variance** *v1* and *v2* same as bivariate normal distribution\n"
      ],
      "metadata": {
        "id": "JhNUBbOOdtKt"
      }
    },
    {
      "cell_type": "code",
      "source": [
        "def create_bivariate_map(mean_one=0, mean_two =0,variance_one = 1,variance_two = 2, covariance = 0.6):  \n",
        "  mean = jnp.array([mean_one,mean_two])\n",
        "  cov = jnp.array([[variance_one,covariance],[covariance,variance_two]])\n",
        "  x = np.random.multivariate_normal(mean,cov,(20000,))      #20000 data points for bivariate normal distribution with covariance matrix and mean array\n",
        "  X = np.random.normal(mean[0], jnp.sqrt(cov[0][0]),20000)    #20000 data points for first univariate normal distribution with mean[0] and variance[0]\n",
        "  Y = np.random.normal(mean[1],jnp.sqrt(cov[1][1]),20000)      #20000 data points for second univariate normal distribution with mean[1] and variance [1]\n",
        "  x_axis = x[:,0]\n",
        "  y_axis = x[:,1]\n",
        "  L = jnp.linalg.cholesky(cov)      #cholesky decomposition to convert a circle to ellipse to draw bounday for bivariate normal distribution\n",
        "  circle_linspace = jnp.linspace(-4,4,1000)   #1000 points in circle to be in between -4 and +4 and \n",
        "  circle_x = jnp.cos(circle_linspace)         # x point in circle\n",
        "  circle_y = jnp.sin(circle_linspace)         #y point in circle\n",
        "  ellipse = np.dstack((circle_x, circle_y))\n",
        "  ellipse = ellipse.reshape((1000,2))     #merging x and y point\n",
        "  ellipse = 4*jnp.dot( ellipse, L).block_until_ready()    #convert circle to ellipse for bivariate distribution\n",
        "  ax = plt.axes(projection='3d')\n",
        "  ax.set_xlim(-6,6)\n",
        "  ax.set_ylim(-6,6)     #setting limit for and y axis of 3d plot\n",
        "  ax.plot(ellipse[:,0],ellipse[:,1],color = 'r')    #plotting ellipse\n",
        "  ax.scatter(x_axis, y_axis,marker = '.')     # plotting points for bivariate distribution in x and y axis\n",
        "  his, bin_edges = jnp.histogram(X, bins = 100, density = True)     # drawing histogram for drawing boundry for first univariate normal distribution in z axis\n",
        "  ax.plot(jnp.ones(101)*-6,bin_edges,1/(1 * jnp.sqrt(2 * jnp.pi)) *jnp.exp( - (bin_edges - mean[0])**2 / (2 * cov[0][0]**2) ),linewidth=2, color='k')   #plotting normal distribution curve for first univariate variable\n",
        "  his, bin_edges = jnp.histogram(Y, bins = 100, density = True)   #drawing histogram for drawing boundry for second univariate normal distribution in z axis\n",
        "  ax.plot(bin_edges, jnp.ones(101)*6,1/(1*jnp.sqrt(2*np.pi)) *jnp.exp(-(bin_edges - mean[1])**2 / (2*cov[1][1]**2)), linewidth = 2, color = 'g') # plotting normal distribution curve for second univariate variable\n",
        "  ax.set_xlabel(\"x\")\n",
        "  ax.set_ylabel(\"y\")"
      ],
      "metadata": {
        "id": "0j5O6YNqSDwK"
      },
      "execution_count": null,
      "outputs": []
    },
    {
      "cell_type": "markdown",
      "source": [
        "Please Make sure your selection of variance or covariance makes the matrix **not positive semidefinite**"
      ],
      "metadata": {
        "id": "YFuvpYVQZQ6p"
      }
    },
    {
      "cell_type": "code",
      "source": [
        "widegts.interact(create_bivariate_map,mean_one = (-3,3,0.1),mean_two = (-3,3,0.1),variance_one = (0,3,0.1),variance_two = (0,3,0.1),covariance = (-3,3,0.1)) "
      ],
      "metadata": {
        "colab": {
          "base_uri": "https://localhost:8080/",
          "height": 425,
          "referenced_widgets": [
            "9c8a6483b2bb41d58660674fbd3612c0",
            "03513f25a3054d218dad0711f03cb2a4",
            "b51d9c3472c144ff8c597c9f1abd0a7e",
            "652d1cb01aad4f238144d664c2b85b84",
            "7c17a951f4494cabb95b90194c0ac966",
            "468d5d3a90fa4983b51e5913f3d0841d",
            "b5e7c947854b4ca28c0d62e7388566ed",
            "a75e4a46594840c584b12ac6e69c6f23",
            "0a6abb7595274e80b00173cef67ff634",
            "bdfc41b382af4292884d3bae67d990a3",
            "110cdd08838848babbdabcedefc9e4fa",
            "144cfcd60cd9463fb07a21b722dc21ae",
            "623bf9c80fe3481a9e8c0e25999763de",
            "20f2324a77924169a7696693d979cfa0",
            "a8668b2f7a674d9ba9b6c2f86ef36889",
            "bae9c9066e5145d6abab7afade7aa984",
            "2ff1ad2c6c4f4967827f3027456e9a7d",
            "cff93f21105940d2bed81e06ba441ca4",
            "2eeb0a69465348f482f8ee14cfd3d035"
          ]
        },
        "id": "xhbcfRAm-aXk",
        "outputId": "95a733b7-c9a8-485a-9c62-a181fc97dea7"
      },
      "execution_count": null,
      "outputs": [
        {
          "output_type": "display_data",
          "data": {
            "text/plain": [
              "interactive(children=(FloatSlider(value=0.0, description='mean_one', max=3.0, min=-3.0), FloatSlider(value=0.0…"
            ],
            "application/vnd.jupyter.widget-view+json": {
              "version_major": 2,
              "version_minor": 0,
              "model_id": "9c8a6483b2bb41d58660674fbd3612c0"
            }
          },
          "metadata": {}
        },
        {
          "output_type": "execute_result",
          "data": {
            "text/plain": [
              "<function __main__.create_bivariate_map>"
            ]
          },
          "metadata": {},
          "execution_count": 10
        }
      ]
    },
    {
      "cell_type": "markdown",
      "source": [
        "Unable to plot histograms along the two z axis for two univariate normal distribution"
      ],
      "metadata": {
        "id": "W748yNCYdbn6"
      }
    },
    {
      "cell_type": "markdown",
      "source": [
        "Resources used  \n",
        "\n",
        "1.   https://en.wikipedia.org/wiki/Multivariate_normal_distribution\n",
        "2.   https://numpy.org/doc/stable/reference/generated/numpy.linalg.cholesky.html\n",
        "3.   https://blogs.sas.com/content/iml/2012/02/08/use-the-cholesky-transformation-to-correlate-and-uncorrelate-variables.html\n",
        "\n",
        "4.  https://matplotlib.org/stable/index.html\n",
        "5.  https://jax.readthedocs.io/en/latest/notebooks/quickstart.html"
      ],
      "metadata": {
        "id": "3wOXEqIJk5wy"
      }
    }
  ]
}